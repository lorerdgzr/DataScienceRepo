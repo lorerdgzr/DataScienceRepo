{
 "cells": [
  {
   "cell_type": "markdown",
   "metadata": {},
   "source": [
    "<center>\n",
    "    <img src=\"https://cf-courses-data.s3.us.cloud-object-storage.appdomain.cloud/IBMDeveloperSkillsNetwork-DS0105EN-SkillsNetwork/labs/Module2/images/SN_web_lightmode.png\" width=\"300\" alt=\"cognitiveclass.ai logo\">\n",
    "</center>\n"
   ]
  },
  {
   "cell_type": "markdown",
   "metadata": {},
   "source": [
    "#### Add your code below following the instructions given in the course\n"
   ]
  },
  {
   "cell_type": "markdown",
   "metadata": {},
   "source": [
    "# Data Science Tools and Ecosystem"
   ]
  },
  {
   "cell_type": "markdown",
   "metadata": {},
   "source": [
    "### Introduction\n",
    "\n",
    "*On this notebook, some information related to Data Science will be displayed, such as popular data science languages, data science libraries and some data science tools that can help any data scientist on their daily tasks.*\n",
    "\n",
    "*In addition to this, there will also be a couple of examples for arithmetic expressions, in order to showcase some basic capabilities that Python possesses.*"
   ]
  },
  {
   "cell_type": "markdown",
   "metadata": {},
   "source": [
    "**Objectives:**\n",
    "\n",
    "* List popular languages in Data Science\n",
    "* List popular libraries used in Python for Data Science\n",
    "* Create a table with Data Science tools and their categories\n",
    "* Evaluate arithmetic expressions using Python"
   ]
  },
  {
   "cell_type": "markdown",
   "metadata": {},
   "source": [
    "#### Data Science Languages\n",
    "\n",
    "As a way of reminder, Data Science is an attempt to work with data. It's a field that explores, manipulates, and analyzes data in order to answer questions or make recommendations. It can help organizations to:\n",
    "\n",
    "* Understand their environments\n",
    "* Analyze existing issues\n",
    "* Reveal previously hidden opportunities\n",
    "\n",
    "The programming language that a data scientist decides to use in order to perform such tasks depends largely on their needs, the problems they are trying to solve, and who are they solving them for. \n",
    "\n",
    "The most popular programming languages among the data science community are:\n",
    "1. Python\n",
    "2. R\n",
    "3. SQL\n",
    "\n",
    "Each one of them with different capabilities and used for different purposes. However, there are other languages being used in a lower degree, like Scala, Java, C++, and Julia. "
   ]
  },
  {
   "cell_type": "markdown",
   "metadata": {},
   "source": [
    "#### Data Science Libraries\n",
    " \n",
    "Libraries are a collection of functions and methods that enable a person to perform a wide variety of actions without writing the code themselves. \n",
    "\n",
    "Since Python is the language that is used by the majority of the data community, I will be listing the different libraries that it provides to work with data. \n",
    "\n",
    "**Python** is a high-level general-purpose language, that is useful for a wide variety of situations, like data science, AI, machine learning, web development, among others. It uses a clear and readable syntax, and includes libraries for scientific computing, visualization, machine learning and deep learning, among others.\n",
    "\n",
    "* For **Scientific computing**, there is *Pandas*, for effective data cleaning, manipulation, and analysis, as well as *NumPy*, which is useful to apply mathematical functions. \n",
    "* For **Visualization**, we have *Matplotlib*, that is excellent for highly customizable graphs and maps, and *Seaborn*, which is used to generate other kind of plots, like heat maps, and violin plots, to mention some. \n",
    "* For **Machine Learning and Deep Learning**, there are libraries like *Scikit-learn*, that contains tools for statistical modeling, *Keras*, that enables you to build Deep Learning models, *TensorFlow*, also used for deep learning, and *PyTorch*, that is used for experimentation. "
   ]
  },
  {
   "cell_type": "markdown",
   "metadata": {},
   "source": [
    "#### Data Science Tools\n",
    "\n",
    "There are three main categories for Data Science tools that help data scientist to complete different tasks, such as:\n",
    "* *Data Management*: persisting and retrieving data\n",
    "* *Data Integration and Transformation*: retrieving data from remote data management systems\n",
    "* *Data Visualization*\n",
    "* *Model Building*: creation of machine learning or deep learning models\n",
    "* *Model Deployment*: the making of models available to third-party applications\n",
    "* *Model Monitoring and Assessment*: continuous performance quality checks on models\n",
    "* *Code Asset Management*\n",
    "* *Data Asset Management*\n",
    "* *Development Environments*\n",
    "* *Execution Environments*\n",
    "\n",
    "As mentioned above, the categories for said tools are **Open Source, Commercial,** and **Cloud-based**. I will display a table to mention some tools that belong to each category. "
   ]
  },
  {
   "cell_type": "markdown",
   "metadata": {},
   "source": [
    "| Category | Data Science Tool |\n",
    "| ---- | ---- |\n",
    "| *Open Source* | MySQL, PostgreSQL, Hadoop, Apache Airflow, KubleFlow, Hue, Kibana, Apache Prediction IO, IBM AI Fairness 360, GitHub, Jupyter Notebooks, Apache Zeppelin, R Studio, among others | \n",
    "| *Commercial* | Oracle database, Microsoft SQL Server, Informatica Powercenter, IBM InfoSphere, Tableau, Microsoft Power BI, IBM Cognos Analytics, SPSS Modeler, SAS Enterprise Miner | \n",
    "| *Cloud-based* | Watson Studio, Watson OpenScale, Microsoft Azure ML, H20 Driverless AI | "
   ]
  },
  {
   "cell_type": "markdown",
   "metadata": {},
   "source": [
    "### Evaluation of Arithmetic Expressions using Python"
   ]
  },
  {
   "cell_type": "markdown",
   "metadata": {},
   "source": [
    "This is a simple arithmetic expression to obtain the product of two integers to then add a third integer number. "
   ]
  },
  {
   "cell_type": "code",
   "execution_count": 1,
   "metadata": {},
   "outputs": [
    {
     "data": {
      "text/plain": [
       "17"
      ]
     },
     "execution_count": 1,
     "metadata": {},
     "output_type": "execute_result"
    }
   ],
   "source": [
    "(3*4)+5"
   ]
  },
  {
   "cell_type": "markdown",
   "metadata": {},
   "source": [
    "I will also be converting a certain amount of minutes to its equivalent in hours. This will be achieved using another arithmetic expression, the division. Let's keep in mind that an hour contains **60 minutes.** \n",
    "\n",
    "I will be converting 200 minutes to hours."
   ]
  },
  {
   "cell_type": "code",
   "execution_count": 2,
   "metadata": {},
   "outputs": [
    {
     "data": {
      "text/plain": [
       "3.3333333333333335"
      ]
     },
     "execution_count": 2,
     "metadata": {},
     "output_type": "execute_result"
    }
   ],
   "source": [
    "200/60"
   ]
  },
  {
   "cell_type": "markdown",
   "metadata": {},
   "source": [
    "Now, we know that 200 minutes translate to 3 hours and 20 minutes. "
   ]
  },
  {
   "cell_type": "markdown",
   "metadata": {},
   "source": [
    "Thank you so much for your time on reading this notebook on the Data Science Ecosystem. "
   ]
  },
  {
   "cell_type": "markdown",
   "metadata": {},
   "source": [
    "## Author:\n",
    "\n",
    "Lorena Rodríguez"
   ]
  }
 ],
 "metadata": {
  "kernelspec": {
   "display_name": "Python",
   "language": "python",
   "name": "conda-env-python-py"
  },
  "language_info": {
   "codemirror_mode": {
    "name": "ipython",
    "version": 3
   },
   "file_extension": ".py",
   "mimetype": "text/x-python",
   "name": "python",
   "nbconvert_exporter": "python",
   "pygments_lexer": "ipython3",
   "version": "3.7.12"
  }
 },
 "nbformat": 4,
 "nbformat_minor": 4
}
